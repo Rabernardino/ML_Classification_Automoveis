{
 "cells": [
  {
   "cell_type": "markdown",
   "source": [
    "# <font color='Teal' style='font-size: 30px;'>Projeto - Classificação Machine Learning - Vendas de Carros Usados</font>\r\n",
    "<hr style='border: 2px solid gray;'>"
   ],
   "metadata": {}
  },
  {
   "cell_type": "markdown",
   "source": [
    "## <font color='Teal' style = 'font-size: 18px;'>Importando bibliotecas</font>\r\n",
    "<ul style='font-size: 16px; line-height: 2; text-align: justify;'>"
   ],
   "metadata": {}
  },
  {
   "cell_type": "code",
   "execution_count": 25,
   "source": [
    "import pandas as pd \r\n",
    "import numpy as np \r\n",
    "import matplotlib.pyplot as plt \r\n",
    "import seaborn as sns \r\n"
   ],
   "outputs": [],
   "metadata": {}
  },
  {
   "cell_type": "markdown",
   "source": [
    "## <font color='Teal' style = 'font-size: 18px;'>Carregando Dataset</font>\r\n",
    "<ul style='font-size: 16px; line-height: 2; text-align: justify;'>"
   ],
   "metadata": {}
  },
  {
   "cell_type": "code",
   "execution_count": 6,
   "source": [
    "raw_data = pd.read_csv('Dataset.csv', sep = ',')\r\n",
    "raw_data.head()"
   ],
   "outputs": [
    {
     "output_type": "execute_result",
     "data": {
      "text/plain": [
       "   Unnamed: 0  mileage_per_year  model_year      price sold\n",
       "0           0             21801        2000   30941.02  yes\n",
       "1           1              7843        1998   40557.96  yes\n",
       "2           2              7109        2006   89627.50   no\n",
       "3           3             26823        2015   95276.14   no\n",
       "4           4              7935        2014  117384.68  yes"
      ],
      "text/html": [
       "<div>\n",
       "<style scoped>\n",
       "    .dataframe tbody tr th:only-of-type {\n",
       "        vertical-align: middle;\n",
       "    }\n",
       "\n",
       "    .dataframe tbody tr th {\n",
       "        vertical-align: top;\n",
       "    }\n",
       "\n",
       "    .dataframe thead th {\n",
       "        text-align: right;\n",
       "    }\n",
       "</style>\n",
       "<table border=\"1\" class=\"dataframe\">\n",
       "  <thead>\n",
       "    <tr style=\"text-align: right;\">\n",
       "      <th></th>\n",
       "      <th>Unnamed: 0</th>\n",
       "      <th>mileage_per_year</th>\n",
       "      <th>model_year</th>\n",
       "      <th>price</th>\n",
       "      <th>sold</th>\n",
       "    </tr>\n",
       "  </thead>\n",
       "  <tbody>\n",
       "    <tr>\n",
       "      <th>0</th>\n",
       "      <td>0</td>\n",
       "      <td>21801</td>\n",
       "      <td>2000</td>\n",
       "      <td>30941.02</td>\n",
       "      <td>yes</td>\n",
       "    </tr>\n",
       "    <tr>\n",
       "      <th>1</th>\n",
       "      <td>1</td>\n",
       "      <td>7843</td>\n",
       "      <td>1998</td>\n",
       "      <td>40557.96</td>\n",
       "      <td>yes</td>\n",
       "    </tr>\n",
       "    <tr>\n",
       "      <th>2</th>\n",
       "      <td>2</td>\n",
       "      <td>7109</td>\n",
       "      <td>2006</td>\n",
       "      <td>89627.50</td>\n",
       "      <td>no</td>\n",
       "    </tr>\n",
       "    <tr>\n",
       "      <th>3</th>\n",
       "      <td>3</td>\n",
       "      <td>26823</td>\n",
       "      <td>2015</td>\n",
       "      <td>95276.14</td>\n",
       "      <td>no</td>\n",
       "    </tr>\n",
       "    <tr>\n",
       "      <th>4</th>\n",
       "      <td>4</td>\n",
       "      <td>7935</td>\n",
       "      <td>2014</td>\n",
       "      <td>117384.68</td>\n",
       "      <td>yes</td>\n",
       "    </tr>\n",
       "  </tbody>\n",
       "</table>\n",
       "</div>"
      ]
     },
     "metadata": {},
     "execution_count": 6
    }
   ],
   "metadata": {}
  },
  {
   "cell_type": "markdown",
   "source": [
    "## <font color='Teal' style = 'font-size: 18px;'>Modificando títulos das colunas</font>\r\n",
    "<ul style='font-size: 16px; line-height: 2; text-align: justify;'>"
   ],
   "metadata": {}
  },
  {
   "cell_type": "code",
   "execution_count": 8,
   "source": [
    "Lista_Titulos_Traduzidos = {'mileage_per_year':'milhas_por_ano', 'model_year':'ano_do_modelo',\r\n",
    "'price':'preco','sold':'vendido'}\r\n",
    "\r\n",
    "raw_data = raw_data.rename(columns = Lista_Titulos_Traduzidos)\r\n",
    "raw_data.head()"
   ],
   "outputs": [
    {
     "output_type": "execute_result",
     "data": {
      "text/plain": [
       "   Unnamed: 0  milhas_por_ano  ano_do_modelo      preco vendido\n",
       "0           0           21801           2000   30941.02     yes\n",
       "1           1            7843           1998   40557.96     yes\n",
       "2           2            7109           2006   89627.50      no\n",
       "3           3           26823           2015   95276.14      no\n",
       "4           4            7935           2014  117384.68     yes"
      ],
      "text/html": [
       "<div>\n",
       "<style scoped>\n",
       "    .dataframe tbody tr th:only-of-type {\n",
       "        vertical-align: middle;\n",
       "    }\n",
       "\n",
       "    .dataframe tbody tr th {\n",
       "        vertical-align: top;\n",
       "    }\n",
       "\n",
       "    .dataframe thead th {\n",
       "        text-align: right;\n",
       "    }\n",
       "</style>\n",
       "<table border=\"1\" class=\"dataframe\">\n",
       "  <thead>\n",
       "    <tr style=\"text-align: right;\">\n",
       "      <th></th>\n",
       "      <th>Unnamed: 0</th>\n",
       "      <th>milhas_por_ano</th>\n",
       "      <th>ano_do_modelo</th>\n",
       "      <th>preco</th>\n",
       "      <th>vendido</th>\n",
       "    </tr>\n",
       "  </thead>\n",
       "  <tbody>\n",
       "    <tr>\n",
       "      <th>0</th>\n",
       "      <td>0</td>\n",
       "      <td>21801</td>\n",
       "      <td>2000</td>\n",
       "      <td>30941.02</td>\n",
       "      <td>yes</td>\n",
       "    </tr>\n",
       "    <tr>\n",
       "      <th>1</th>\n",
       "      <td>1</td>\n",
       "      <td>7843</td>\n",
       "      <td>1998</td>\n",
       "      <td>40557.96</td>\n",
       "      <td>yes</td>\n",
       "    </tr>\n",
       "    <tr>\n",
       "      <th>2</th>\n",
       "      <td>2</td>\n",
       "      <td>7109</td>\n",
       "      <td>2006</td>\n",
       "      <td>89627.50</td>\n",
       "      <td>no</td>\n",
       "    </tr>\n",
       "    <tr>\n",
       "      <th>3</th>\n",
       "      <td>3</td>\n",
       "      <td>26823</td>\n",
       "      <td>2015</td>\n",
       "      <td>95276.14</td>\n",
       "      <td>no</td>\n",
       "    </tr>\n",
       "    <tr>\n",
       "      <th>4</th>\n",
       "      <td>4</td>\n",
       "      <td>7935</td>\n",
       "      <td>2014</td>\n",
       "      <td>117384.68</td>\n",
       "      <td>yes</td>\n",
       "    </tr>\n",
       "  </tbody>\n",
       "</table>\n",
       "</div>"
      ]
     },
     "metadata": {},
     "execution_count": 8
    }
   ],
   "metadata": {}
  },
  {
   "cell_type": "markdown",
   "source": [
    "## <font color='Teal' style = 'font-size: 18px;'>Codificando Resultados - Coluna Vendido</font>\r\n",
    "### <font color='Teal' style = 'font-size: 18px;'>1 - Carros Vendidos // 0 - Carros Não Vendidos</font>\r\n",
    "<ul style='font-size: 16px; line-height: 2; text-align: justify;'>"
   ],
   "metadata": {}
  },
  {
   "cell_type": "code",
   "execution_count": 9,
   "source": [
    "codigo_vendido = {'yes':1, 'no':0}\r\n",
    "\r\n",
    "raw_data.vendido = raw_data.vendido.map(codigo_vendido)\r\n",
    "raw_data.head()"
   ],
   "outputs": [
    {
     "output_type": "execute_result",
     "data": {
      "text/plain": [
       "   Unnamed: 0  milhas_por_ano  ano_do_modelo      preco  vendido\n",
       "0           0           21801           2000   30941.02        1\n",
       "1           1            7843           1998   40557.96        1\n",
       "2           2            7109           2006   89627.50        0\n",
       "3           3           26823           2015   95276.14        0\n",
       "4           4            7935           2014  117384.68        1"
      ],
      "text/html": [
       "<div>\n",
       "<style scoped>\n",
       "    .dataframe tbody tr th:only-of-type {\n",
       "        vertical-align: middle;\n",
       "    }\n",
       "\n",
       "    .dataframe tbody tr th {\n",
       "        vertical-align: top;\n",
       "    }\n",
       "\n",
       "    .dataframe thead th {\n",
       "        text-align: right;\n",
       "    }\n",
       "</style>\n",
       "<table border=\"1\" class=\"dataframe\">\n",
       "  <thead>\n",
       "    <tr style=\"text-align: right;\">\n",
       "      <th></th>\n",
       "      <th>Unnamed: 0</th>\n",
       "      <th>milhas_por_ano</th>\n",
       "      <th>ano_do_modelo</th>\n",
       "      <th>preco</th>\n",
       "      <th>vendido</th>\n",
       "    </tr>\n",
       "  </thead>\n",
       "  <tbody>\n",
       "    <tr>\n",
       "      <th>0</th>\n",
       "      <td>0</td>\n",
       "      <td>21801</td>\n",
       "      <td>2000</td>\n",
       "      <td>30941.02</td>\n",
       "      <td>1</td>\n",
       "    </tr>\n",
       "    <tr>\n",
       "      <th>1</th>\n",
       "      <td>1</td>\n",
       "      <td>7843</td>\n",
       "      <td>1998</td>\n",
       "      <td>40557.96</td>\n",
       "      <td>1</td>\n",
       "    </tr>\n",
       "    <tr>\n",
       "      <th>2</th>\n",
       "      <td>2</td>\n",
       "      <td>7109</td>\n",
       "      <td>2006</td>\n",
       "      <td>89627.50</td>\n",
       "      <td>0</td>\n",
       "    </tr>\n",
       "    <tr>\n",
       "      <th>3</th>\n",
       "      <td>3</td>\n",
       "      <td>26823</td>\n",
       "      <td>2015</td>\n",
       "      <td>95276.14</td>\n",
       "      <td>0</td>\n",
       "    </tr>\n",
       "    <tr>\n",
       "      <th>4</th>\n",
       "      <td>4</td>\n",
       "      <td>7935</td>\n",
       "      <td>2014</td>\n",
       "      <td>117384.68</td>\n",
       "      <td>1</td>\n",
       "    </tr>\n",
       "  </tbody>\n",
       "</table>\n",
       "</div>"
      ]
     },
     "metadata": {},
     "execution_count": 9
    }
   ],
   "metadata": {}
  },
  {
   "cell_type": "markdown",
   "source": [
    "## <font color='Teal' style = 'font-size: 18px;'>Criação da Coluna - Ano Atual</font>\r\n",
    "### <font color='Teal' style = 'font-size: 18px;'>Coluna para identificar baseado no ano do modelo e no ano atual, qual a idade do veículo</font>"
   ],
   "metadata": {}
  },
  {
   "cell_type": "code",
   "execution_count": 11,
   "source": [
    "from datetime import datetime\r\n",
    "ano_atual = datetime.today().year\r\n",
    "\r\n",
    "raw_data['Idade_Veículo'] = ano_atual - raw_data['ano_do_modelo']\r\n",
    "raw_data.head()"
   ],
   "outputs": [
    {
     "output_type": "execute_result",
     "data": {
      "text/plain": [
       "   Unnamed: 0  milhas_por_ano  ano_do_modelo      preco  vendido  \\\n",
       "0           0           21801           2000   30941.02        1   \n",
       "1           1            7843           1998   40557.96        1   \n",
       "2           2            7109           2006   89627.50        0   \n",
       "3           3           26823           2015   95276.14        0   \n",
       "4           4            7935           2014  117384.68        1   \n",
       "\n",
       "   Idade_Veículo  \n",
       "0             21  \n",
       "1             23  \n",
       "2             15  \n",
       "3              6  \n",
       "4              7  "
      ],
      "text/html": [
       "<div>\n",
       "<style scoped>\n",
       "    .dataframe tbody tr th:only-of-type {\n",
       "        vertical-align: middle;\n",
       "    }\n",
       "\n",
       "    .dataframe tbody tr th {\n",
       "        vertical-align: top;\n",
       "    }\n",
       "\n",
       "    .dataframe thead th {\n",
       "        text-align: right;\n",
       "    }\n",
       "</style>\n",
       "<table border=\"1\" class=\"dataframe\">\n",
       "  <thead>\n",
       "    <tr style=\"text-align: right;\">\n",
       "      <th></th>\n",
       "      <th>Unnamed: 0</th>\n",
       "      <th>milhas_por_ano</th>\n",
       "      <th>ano_do_modelo</th>\n",
       "      <th>preco</th>\n",
       "      <th>vendido</th>\n",
       "      <th>Idade_Veículo</th>\n",
       "    </tr>\n",
       "  </thead>\n",
       "  <tbody>\n",
       "    <tr>\n",
       "      <th>0</th>\n",
       "      <td>0</td>\n",
       "      <td>21801</td>\n",
       "      <td>2000</td>\n",
       "      <td>30941.02</td>\n",
       "      <td>1</td>\n",
       "      <td>21</td>\n",
       "    </tr>\n",
       "    <tr>\n",
       "      <th>1</th>\n",
       "      <td>1</td>\n",
       "      <td>7843</td>\n",
       "      <td>1998</td>\n",
       "      <td>40557.96</td>\n",
       "      <td>1</td>\n",
       "      <td>23</td>\n",
       "    </tr>\n",
       "    <tr>\n",
       "      <th>2</th>\n",
       "      <td>2</td>\n",
       "      <td>7109</td>\n",
       "      <td>2006</td>\n",
       "      <td>89627.50</td>\n",
       "      <td>0</td>\n",
       "      <td>15</td>\n",
       "    </tr>\n",
       "    <tr>\n",
       "      <th>3</th>\n",
       "      <td>3</td>\n",
       "      <td>26823</td>\n",
       "      <td>2015</td>\n",
       "      <td>95276.14</td>\n",
       "      <td>0</td>\n",
       "      <td>6</td>\n",
       "    </tr>\n",
       "    <tr>\n",
       "      <th>4</th>\n",
       "      <td>4</td>\n",
       "      <td>7935</td>\n",
       "      <td>2014</td>\n",
       "      <td>117384.68</td>\n",
       "      <td>1</td>\n",
       "      <td>7</td>\n",
       "    </tr>\n",
       "  </tbody>\n",
       "</table>\n",
       "</div>"
      ]
     },
     "metadata": {},
     "execution_count": 11
    }
   ],
   "metadata": {}
  },
  {
   "cell_type": "markdown",
   "source": [
    "## <font color='Teal' style = 'font-size: 18px;'>Realizando a transformação da unidade milhas para km</font>"
   ],
   "metadata": {}
  },
  {
   "cell_type": "code",
   "execution_count": 15,
   "source": [
    "constante_conversao = 1.60934\r\n",
    "\r\n",
    "raw_data['km_por_ano'] = round(raw_data['milhas_por_ano']*constante_conversao)\r\n",
    "raw_data.head()"
   ],
   "outputs": [
    {
     "output_type": "execute_result",
     "data": {
      "text/plain": [
       "   Unnamed: 0  milhas_por_ano  ano_do_modelo      preco  vendido  \\\n",
       "0           0           21801           2000   30941.02        1   \n",
       "1           1            7843           1998   40557.96        1   \n",
       "2           2            7109           2006   89627.50        0   \n",
       "3           3           26823           2015   95276.14        0   \n",
       "4           4            7935           2014  117384.68        1   \n",
       "\n",
       "   Idade_Veículo  km_por_ano  \n",
       "0             21     35085.0  \n",
       "1             23     12622.0  \n",
       "2             15     11441.0  \n",
       "3              6     43167.0  \n",
       "4              7     12770.0  "
      ],
      "text/html": [
       "<div>\n",
       "<style scoped>\n",
       "    .dataframe tbody tr th:only-of-type {\n",
       "        vertical-align: middle;\n",
       "    }\n",
       "\n",
       "    .dataframe tbody tr th {\n",
       "        vertical-align: top;\n",
       "    }\n",
       "\n",
       "    .dataframe thead th {\n",
       "        text-align: right;\n",
       "    }\n",
       "</style>\n",
       "<table border=\"1\" class=\"dataframe\">\n",
       "  <thead>\n",
       "    <tr style=\"text-align: right;\">\n",
       "      <th></th>\n",
       "      <th>Unnamed: 0</th>\n",
       "      <th>milhas_por_ano</th>\n",
       "      <th>ano_do_modelo</th>\n",
       "      <th>preco</th>\n",
       "      <th>vendido</th>\n",
       "      <th>Idade_Veículo</th>\n",
       "      <th>km_por_ano</th>\n",
       "    </tr>\n",
       "  </thead>\n",
       "  <tbody>\n",
       "    <tr>\n",
       "      <th>0</th>\n",
       "      <td>0</td>\n",
       "      <td>21801</td>\n",
       "      <td>2000</td>\n",
       "      <td>30941.02</td>\n",
       "      <td>1</td>\n",
       "      <td>21</td>\n",
       "      <td>35085.0</td>\n",
       "    </tr>\n",
       "    <tr>\n",
       "      <th>1</th>\n",
       "      <td>1</td>\n",
       "      <td>7843</td>\n",
       "      <td>1998</td>\n",
       "      <td>40557.96</td>\n",
       "      <td>1</td>\n",
       "      <td>23</td>\n",
       "      <td>12622.0</td>\n",
       "    </tr>\n",
       "    <tr>\n",
       "      <th>2</th>\n",
       "      <td>2</td>\n",
       "      <td>7109</td>\n",
       "      <td>2006</td>\n",
       "      <td>89627.50</td>\n",
       "      <td>0</td>\n",
       "      <td>15</td>\n",
       "      <td>11441.0</td>\n",
       "    </tr>\n",
       "    <tr>\n",
       "      <th>3</th>\n",
       "      <td>3</td>\n",
       "      <td>26823</td>\n",
       "      <td>2015</td>\n",
       "      <td>95276.14</td>\n",
       "      <td>0</td>\n",
       "      <td>6</td>\n",
       "      <td>43167.0</td>\n",
       "    </tr>\n",
       "    <tr>\n",
       "      <th>4</th>\n",
       "      <td>4</td>\n",
       "      <td>7935</td>\n",
       "      <td>2014</td>\n",
       "      <td>117384.68</td>\n",
       "      <td>1</td>\n",
       "      <td>7</td>\n",
       "      <td>12770.0</td>\n",
       "    </tr>\n",
       "  </tbody>\n",
       "</table>\n",
       "</div>"
      ]
     },
     "metadata": {},
     "execution_count": 15
    }
   ],
   "metadata": {}
  },
  {
   "cell_type": "markdown",
   "source": [
    "## <font color='Teal' style = 'font-size: 18px;'>Definindo dataset transformado</font>"
   ],
   "metadata": {}
  },
  {
   "cell_type": "code",
   "execution_count": 16,
   "source": [
    "data = raw_data.drop(['Unnamed: 0','milhas_por_ano','ano_do_modelo'], axis = 1)\r\n",
    "data.head()"
   ],
   "outputs": [
    {
     "output_type": "execute_result",
     "data": {
      "text/plain": [
       "       preco  vendido  Idade_Veículo  km_por_ano\n",
       "0   30941.02        1             21     35085.0\n",
       "1   40557.96        1             23     12622.0\n",
       "2   89627.50        0             15     11441.0\n",
       "3   95276.14        0              6     43167.0\n",
       "4  117384.68        1              7     12770.0"
      ],
      "text/html": [
       "<div>\n",
       "<style scoped>\n",
       "    .dataframe tbody tr th:only-of-type {\n",
       "        vertical-align: middle;\n",
       "    }\n",
       "\n",
       "    .dataframe tbody tr th {\n",
       "        vertical-align: top;\n",
       "    }\n",
       "\n",
       "    .dataframe thead th {\n",
       "        text-align: right;\n",
       "    }\n",
       "</style>\n",
       "<table border=\"1\" class=\"dataframe\">\n",
       "  <thead>\n",
       "    <tr style=\"text-align: right;\">\n",
       "      <th></th>\n",
       "      <th>preco</th>\n",
       "      <th>vendido</th>\n",
       "      <th>Idade_Veículo</th>\n",
       "      <th>km_por_ano</th>\n",
       "    </tr>\n",
       "  </thead>\n",
       "  <tbody>\n",
       "    <tr>\n",
       "      <th>0</th>\n",
       "      <td>30941.02</td>\n",
       "      <td>1</td>\n",
       "      <td>21</td>\n",
       "      <td>35085.0</td>\n",
       "    </tr>\n",
       "    <tr>\n",
       "      <th>1</th>\n",
       "      <td>40557.96</td>\n",
       "      <td>1</td>\n",
       "      <td>23</td>\n",
       "      <td>12622.0</td>\n",
       "    </tr>\n",
       "    <tr>\n",
       "      <th>2</th>\n",
       "      <td>89627.50</td>\n",
       "      <td>0</td>\n",
       "      <td>15</td>\n",
       "      <td>11441.0</td>\n",
       "    </tr>\n",
       "    <tr>\n",
       "      <th>3</th>\n",
       "      <td>95276.14</td>\n",
       "      <td>0</td>\n",
       "      <td>6</td>\n",
       "      <td>43167.0</td>\n",
       "    </tr>\n",
       "    <tr>\n",
       "      <th>4</th>\n",
       "      <td>117384.68</td>\n",
       "      <td>1</td>\n",
       "      <td>7</td>\n",
       "      <td>12770.0</td>\n",
       "    </tr>\n",
       "  </tbody>\n",
       "</table>\n",
       "</div>"
      ]
     },
     "metadata": {},
     "execution_count": 16
    }
   ],
   "metadata": {}
  },
  {
   "cell_type": "markdown",
   "source": [
    "## <font color='Teal' style = 'font-size: 18px;'>Analisando Informações e Estatisticas Gerais do Dataset</font>"
   ],
   "metadata": {}
  },
  {
   "cell_type": "code",
   "execution_count": 23,
   "source": [
    "informacoes_dataset = {}\r\n",
    "valores_dataset = data.shape[0]\r\n",
    "\r\n",
    "for col in data.columns:\r\n",
    "    nulls = round(data[col].isna().sum()/valores_dataset,2)\r\n",
    "    dados_formato = data.dtypes[col]\r\n",
    "\r\n",
    "    numero_valores = data[col].value_counts().sum()\r\n",
    "    for index, colnames in data.items():\r\n",
    "        informacoes_dataset[col] = {'Formato Dado':dados_formato, 'Quantidade Valores Nulos':nulls,'Total Valores':numero_valores}\r\n",
    "\r\n",
    "info_dataset = pd.DataFrame.from_dict(informacoes_dataset, orient='index')\r\n",
    "info_dataset\r\n",
    "\r\n"
   ],
   "outputs": [
    {
     "output_type": "execute_result",
     "data": {
      "text/plain": [
       "              Formato Dado  Quantidade Valores Nulos  Total Valores\n",
       "preco              float64                       0.0          10000\n",
       "vendido              int64                       0.0          10000\n",
       "Idade_Veículo        int64                       0.0          10000\n",
       "km_por_ano         float64                       0.0          10000"
      ],
      "text/html": [
       "<div>\n",
       "<style scoped>\n",
       "    .dataframe tbody tr th:only-of-type {\n",
       "        vertical-align: middle;\n",
       "    }\n",
       "\n",
       "    .dataframe tbody tr th {\n",
       "        vertical-align: top;\n",
       "    }\n",
       "\n",
       "    .dataframe thead th {\n",
       "        text-align: right;\n",
       "    }\n",
       "</style>\n",
       "<table border=\"1\" class=\"dataframe\">\n",
       "  <thead>\n",
       "    <tr style=\"text-align: right;\">\n",
       "      <th></th>\n",
       "      <th>Formato Dado</th>\n",
       "      <th>Quantidade Valores Nulos</th>\n",
       "      <th>Total Valores</th>\n",
       "    </tr>\n",
       "  </thead>\n",
       "  <tbody>\n",
       "    <tr>\n",
       "      <th>preco</th>\n",
       "      <td>float64</td>\n",
       "      <td>0.0</td>\n",
       "      <td>10000</td>\n",
       "    </tr>\n",
       "    <tr>\n",
       "      <th>vendido</th>\n",
       "      <td>int64</td>\n",
       "      <td>0.0</td>\n",
       "      <td>10000</td>\n",
       "    </tr>\n",
       "    <tr>\n",
       "      <th>Idade_Veículo</th>\n",
       "      <td>int64</td>\n",
       "      <td>0.0</td>\n",
       "      <td>10000</td>\n",
       "    </tr>\n",
       "    <tr>\n",
       "      <th>km_por_ano</th>\n",
       "      <td>float64</td>\n",
       "      <td>0.0</td>\n",
       "      <td>10000</td>\n",
       "    </tr>\n",
       "  </tbody>\n",
       "</table>\n",
       "</div>"
      ]
     },
     "metadata": {},
     "execution_count": 23
    }
   ],
   "metadata": {}
  },
  {
   "cell_type": "code",
   "execution_count": 19,
   "source": [
    "data.describe()"
   ],
   "outputs": [
    {
     "output_type": "execute_result",
     "data": {
      "text/plain": [
       "               preco       vendido  Idade_Veículo    km_por_ano\n",
       "count   10000.000000  10000.000000    10000.00000  10000.000000\n",
       "mean    64842.373698      0.580000       16.85580  22825.899900\n",
       "std     25250.592393      0.493583        4.68758   8060.487369\n",
       "min      -840.360000      0.000000        4.00000    584.000000\n",
       "25%     44796.375000      0.000000       14.00000  16857.500000\n",
       "50%     65225.685000      1.000000       18.00000  21595.000000\n",
       "75%     85111.237500      1.000000       21.00000  27643.250000\n",
       "max    118929.720000      1.000000       23.00000  63685.000000"
      ],
      "text/html": [
       "<div>\n",
       "<style scoped>\n",
       "    .dataframe tbody tr th:only-of-type {\n",
       "        vertical-align: middle;\n",
       "    }\n",
       "\n",
       "    .dataframe tbody tr th {\n",
       "        vertical-align: top;\n",
       "    }\n",
       "\n",
       "    .dataframe thead th {\n",
       "        text-align: right;\n",
       "    }\n",
       "</style>\n",
       "<table border=\"1\" class=\"dataframe\">\n",
       "  <thead>\n",
       "    <tr style=\"text-align: right;\">\n",
       "      <th></th>\n",
       "      <th>preco</th>\n",
       "      <th>vendido</th>\n",
       "      <th>Idade_Veículo</th>\n",
       "      <th>km_por_ano</th>\n",
       "    </tr>\n",
       "  </thead>\n",
       "  <tbody>\n",
       "    <tr>\n",
       "      <th>count</th>\n",
       "      <td>10000.000000</td>\n",
       "      <td>10000.000000</td>\n",
       "      <td>10000.00000</td>\n",
       "      <td>10000.000000</td>\n",
       "    </tr>\n",
       "    <tr>\n",
       "      <th>mean</th>\n",
       "      <td>64842.373698</td>\n",
       "      <td>0.580000</td>\n",
       "      <td>16.85580</td>\n",
       "      <td>22825.899900</td>\n",
       "    </tr>\n",
       "    <tr>\n",
       "      <th>std</th>\n",
       "      <td>25250.592393</td>\n",
       "      <td>0.493583</td>\n",
       "      <td>4.68758</td>\n",
       "      <td>8060.487369</td>\n",
       "    </tr>\n",
       "    <tr>\n",
       "      <th>min</th>\n",
       "      <td>-840.360000</td>\n",
       "      <td>0.000000</td>\n",
       "      <td>4.00000</td>\n",
       "      <td>584.000000</td>\n",
       "    </tr>\n",
       "    <tr>\n",
       "      <th>25%</th>\n",
       "      <td>44796.375000</td>\n",
       "      <td>0.000000</td>\n",
       "      <td>14.00000</td>\n",
       "      <td>16857.500000</td>\n",
       "    </tr>\n",
       "    <tr>\n",
       "      <th>50%</th>\n",
       "      <td>65225.685000</td>\n",
       "      <td>1.000000</td>\n",
       "      <td>18.00000</td>\n",
       "      <td>21595.000000</td>\n",
       "    </tr>\n",
       "    <tr>\n",
       "      <th>75%</th>\n",
       "      <td>85111.237500</td>\n",
       "      <td>1.000000</td>\n",
       "      <td>21.00000</td>\n",
       "      <td>27643.250000</td>\n",
       "    </tr>\n",
       "    <tr>\n",
       "      <th>max</th>\n",
       "      <td>118929.720000</td>\n",
       "      <td>1.000000</td>\n",
       "      <td>23.00000</td>\n",
       "      <td>63685.000000</td>\n",
       "    </tr>\n",
       "  </tbody>\n",
       "</table>\n",
       "</div>"
      ]
     },
     "metadata": {},
     "execution_count": 19
    }
   ],
   "metadata": {}
  },
  {
   "cell_type": "markdown",
   "source": [
    "## <font color='Teal' style = 'font-size: 18px;'>Observado valores negativos no preço, sendo necessario a retirada dos valores já que os mesmos não fazem sentido para a analise</font>"
   ],
   "metadata": {}
  },
  {
   "cell_type": "code",
   "execution_count": 52,
   "source": [
    "data.query('preco < 1000')"
   ],
   "outputs": [
    {
     "output_type": "execute_result",
     "data": {
      "text/plain": [
       "       preco  vendido  Idade_Veículo  km_por_ano\n",
       "4200 -270.77        1             23     27359.0\n",
       "4796 -840.36        1             23     21367.0"
      ],
      "text/html": [
       "<div>\n",
       "<style scoped>\n",
       "    .dataframe tbody tr th:only-of-type {\n",
       "        vertical-align: middle;\n",
       "    }\n",
       "\n",
       "    .dataframe tbody tr th {\n",
       "        vertical-align: top;\n",
       "    }\n",
       "\n",
       "    .dataframe thead th {\n",
       "        text-align: right;\n",
       "    }\n",
       "</style>\n",
       "<table border=\"1\" class=\"dataframe\">\n",
       "  <thead>\n",
       "    <tr style=\"text-align: right;\">\n",
       "      <th></th>\n",
       "      <th>preco</th>\n",
       "      <th>vendido</th>\n",
       "      <th>Idade_Veículo</th>\n",
       "      <th>km_por_ano</th>\n",
       "    </tr>\n",
       "  </thead>\n",
       "  <tbody>\n",
       "    <tr>\n",
       "      <th>4200</th>\n",
       "      <td>-270.77</td>\n",
       "      <td>1</td>\n",
       "      <td>23</td>\n",
       "      <td>27359.0</td>\n",
       "    </tr>\n",
       "    <tr>\n",
       "      <th>4796</th>\n",
       "      <td>-840.36</td>\n",
       "      <td>1</td>\n",
       "      <td>23</td>\n",
       "      <td>21367.0</td>\n",
       "    </tr>\n",
       "  </tbody>\n",
       "</table>\n",
       "</div>"
      ]
     },
     "metadata": {},
     "execution_count": 52
    }
   ],
   "metadata": {}
  },
  {
   "cell_type": "code",
   "execution_count": 53,
   "source": [
    "data2 = data.drop([data.index[4200],data.index[4796]])\r\n",
    "data2.describe()"
   ],
   "outputs": [
    {
     "output_type": "execute_result",
     "data": {
      "text/plain": [
       "               preco      vendido  Idade_Veículo    km_por_ano\n",
       "count    9998.000000  9998.000000    9998.000000   9998.000000\n",
       "mean    64855.455902     0.579916      16.854571  22825.592418\n",
       "std     25236.167514     0.493597       4.687243   8061.152914\n",
       "min      1757.970000     0.000000       4.000000    584.000000\n",
       "25%     44807.537500     0.000000      14.000000  16856.500000\n",
       "50%     65227.910000     1.000000      18.000000  21595.000000\n",
       "75%     85115.852500     1.000000      21.000000  27645.750000\n",
       "max    118929.720000     1.000000      23.000000  63685.000000"
      ],
      "text/html": [
       "<div>\n",
       "<style scoped>\n",
       "    .dataframe tbody tr th:only-of-type {\n",
       "        vertical-align: middle;\n",
       "    }\n",
       "\n",
       "    .dataframe tbody tr th {\n",
       "        vertical-align: top;\n",
       "    }\n",
       "\n",
       "    .dataframe thead th {\n",
       "        text-align: right;\n",
       "    }\n",
       "</style>\n",
       "<table border=\"1\" class=\"dataframe\">\n",
       "  <thead>\n",
       "    <tr style=\"text-align: right;\">\n",
       "      <th></th>\n",
       "      <th>preco</th>\n",
       "      <th>vendido</th>\n",
       "      <th>Idade_Veículo</th>\n",
       "      <th>km_por_ano</th>\n",
       "    </tr>\n",
       "  </thead>\n",
       "  <tbody>\n",
       "    <tr>\n",
       "      <th>count</th>\n",
       "      <td>9998.000000</td>\n",
       "      <td>9998.000000</td>\n",
       "      <td>9998.000000</td>\n",
       "      <td>9998.000000</td>\n",
       "    </tr>\n",
       "    <tr>\n",
       "      <th>mean</th>\n",
       "      <td>64855.455902</td>\n",
       "      <td>0.579916</td>\n",
       "      <td>16.854571</td>\n",
       "      <td>22825.592418</td>\n",
       "    </tr>\n",
       "    <tr>\n",
       "      <th>std</th>\n",
       "      <td>25236.167514</td>\n",
       "      <td>0.493597</td>\n",
       "      <td>4.687243</td>\n",
       "      <td>8061.152914</td>\n",
       "    </tr>\n",
       "    <tr>\n",
       "      <th>min</th>\n",
       "      <td>1757.970000</td>\n",
       "      <td>0.000000</td>\n",
       "      <td>4.000000</td>\n",
       "      <td>584.000000</td>\n",
       "    </tr>\n",
       "    <tr>\n",
       "      <th>25%</th>\n",
       "      <td>44807.537500</td>\n",
       "      <td>0.000000</td>\n",
       "      <td>14.000000</td>\n",
       "      <td>16856.500000</td>\n",
       "    </tr>\n",
       "    <tr>\n",
       "      <th>50%</th>\n",
       "      <td>65227.910000</td>\n",
       "      <td>1.000000</td>\n",
       "      <td>18.000000</td>\n",
       "      <td>21595.000000</td>\n",
       "    </tr>\n",
       "    <tr>\n",
       "      <th>75%</th>\n",
       "      <td>85115.852500</td>\n",
       "      <td>1.000000</td>\n",
       "      <td>21.000000</td>\n",
       "      <td>27645.750000</td>\n",
       "    </tr>\n",
       "    <tr>\n",
       "      <th>max</th>\n",
       "      <td>118929.720000</td>\n",
       "      <td>1.000000</td>\n",
       "      <td>23.000000</td>\n",
       "      <td>63685.000000</td>\n",
       "    </tr>\n",
       "  </tbody>\n",
       "</table>\n",
       "</div>"
      ]
     },
     "metadata": {},
     "execution_count": 53
    }
   ],
   "metadata": {}
  },
  {
   "cell_type": "markdown",
   "source": [
    "## <font color='Teal' style = 'font-size: 18px;'>Verificando distribuição dos preços</font>"
   ],
   "metadata": {}
  },
  {
   "cell_type": "code",
   "execution_count": 61,
   "source": [
    "plt.subplots(figsize = (12,6))\r\n",
    "\r\n",
    "sns.set_style('whitegrid')\r\n",
    "fig1 = sns.histplot(x = 'preco', data = data)\r\n",
    "fig1.set_title('Distribuição dos Preços', fontsize = 16)\r\n",
    "fig1.set_ylabel('Quantidade Veículos', fontsize = 14)\r\n",
    "fig1.set_xlabel('Preços', fontsize = 14)"
   ],
   "outputs": [
    {
     "output_type": "execute_result",
     "data": {
      "text/plain": [
       "Text(0.5, 0, 'Preços')"
      ]
     },
     "metadata": {},
     "execution_count": 61
    },
    {
     "output_type": "display_data",
     "data": {
      "text/plain": [
       "<Figure size 864x432 with 1 Axes>"
      ],
      "image/png": "[encoded data removed]"
     },
     "metadata": {}
    }
   ],
   "metadata": {}
  },
  {
   "cell_type": "markdown",
   "source": [
    "## <font color='Teal' style = 'font-size: 18px;'>Inicinado Tratamento para o modelo de ML</font>"
   ],
   "metadata": {}
  },
  {
   "cell_type": "code",
   "execution_count": 62,
   "source": [
    "x = data2[['preco','Idade_Veículo','km_por_ano']]\r\n",
    "y = data2['vendido']"
   ],
   "outputs": [],
   "metadata": {}
  },
  {
   "cell_type": "markdown",
   "source": [
    "## <font color='Teal' style = 'font-size: 18px;'>Utilizando o LinearSVC (Avaliando Performance)</font>"
   ],
   "metadata": {}
  },
  {
   "cell_type": "code",
   "execution_count": 75,
   "source": [
    "from sklearn.model_selection import train_test_split\r\n",
    "from sklearn.metrics import accuracy_score\r\n",
    "from sklearn.svm import LinearSVC\r\n",
    "\r\n",
    "SEED = 5 #Consolidando o fator randomico\r\n",
    "np.random.seed(SEED)\r\n",
    "\r\n",
    "train_X,test_X,train_y,test_y = train_test_split(x,y, test_size = 0.25, stratify = y)\r\n",
    "\r\n",
    "modelo = LinearSVC()\r\n",
    "modelo.fit(train_X,train_y)\r\n",
    "previsoes = modelo.predict(test_X)\r\n",
    "\r\n",
    "acuracia = accuracy_score(test_y,previsoes)*100\r\n",
    "print(f'Acurácia apresentada pelo modelo foi de {acuracia}%')"
   ],
   "outputs": [
    {
     "output_type": "stream",
     "name": "stdout",
     "text": [
      "Acurácia apresentada pelo modelo foi de 57.64%\n"
     ]
    },
    {
     "output_type": "stream",
     "name": "stderr",
     "text": [
      "C:\\Users\\raber\\anaconda3\\lib\\site-packages\\sklearn\\svm\\_base.py:976: ConvergenceWarning: Liblinear failed to converge, increase the number of iterations.\n",
      "  warnings.warn(\"Liblinear failed to converge, increase \"\n"
     ]
    }
   ],
   "metadata": {}
  },
  {
   "cell_type": "markdown",
   "source": [
    "## <font color='Teal' style = 'font-size: 18px;'>Comparando Resultado com Baseline (Estratégias Diferentes)</font>"
   ],
   "metadata": {}
  },
  {
   "cell_type": "markdown",
   "source": [
    "## <font color='Teal' style = 'font-size: 18px;'>Estabelecendo Algoritmo Padrão (Baseline) - Stratify</font>"
   ],
   "metadata": {}
  },
  {
   "cell_type": "code",
   "execution_count": 79,
   "source": [
    "from sklearn.dummy import DummyClassifier\r\n",
    "dummy_stratified = DummyClassifier()\r\n",
    "dummy_stratified.fit(train_X,train_y)\r\n",
    "\r\n",
    "acuracia_dummy = round(dummy_stratified.score(train_X,train_y)*100,2)\r\n",
    "print(f'Acurácia apresentada pelo modelo foi de {acuracia_dummy}%')"
   ],
   "outputs": [
    {
     "output_type": "stream",
     "name": "stdout",
     "text": [
      "Acurácia apresentada pelo modelo foi de 50.75%\n"
     ]
    }
   ],
   "metadata": {}
  },
  {
   "cell_type": "markdown",
   "source": [
    "## <font color='Teal' style = 'font-size: 18px;'>Estabelecendo Algoritmo Padrão (Baseline) - Most Frequent</font>"
   ],
   "metadata": {}
  },
  {
   "cell_type": "code",
   "execution_count": 80,
   "source": [
    "from sklearn.dummy import DummyClassifier\r\n",
    "dummy_most_frequent = DummyClassifier(strategy='most_frequent')\r\n",
    "dummy_most_frequent.fit(train_X,train_y)\r\n",
    "\r\n",
    "acuracia_most_frequent = round(dummy_most_frequent.score(train_X,train_y)*100,2)\r\n",
    "print(f'Acurácia apresentada pelo modelo foi de {acuracia_most_frequent}%')"
   ],
   "outputs": [
    {
     "output_type": "stream",
     "name": "stdout",
     "text": [
      "Acurácia apresentada pelo modelo foi de 57.99%\n"
     ]
    }
   ],
   "metadata": {}
  },
  {
   "cell_type": "markdown",
   "source": [
    "## <font color='Teal' style = 'font-size: 18px;'>Resultados apresentam o modelo ML com baixa qualidade utilizando o LinearSVC, comparando com os valores de acuracia encontradas com os baselines. </font>"
   ],
   "metadata": {}
  },
  {
   "cell_type": "markdown",
   "source": [
    "## <font color='Teal' style = 'font-size: 18px;'>Utilizando o StandardScaler com o intuito de modificar a escala das variáveis independentes e verificando o impacto na qualidade do modelo.</font>"
   ],
   "metadata": {}
  },
  {
   "cell_type": "code",
   "execution_count": 81,
   "source": [
    "from sklearn.svm import SVC\r\n",
    "from sklearn.preprocessing import StandardScaler\r\n",
    "\r\n",
    "SEED = 5\r\n",
    "np.random.seed(SEED)\r\n",
    "\r\n",
    "scale_train_x, scale_test_x, train_y, test_y = train_test_split(x, y, test_size = 0.25, stratify = y)\r\n",
    "\r\n",
    "scaler = StandardScaler()\r\n",
    "scaler.fit(scale_train_x)\r\n",
    "train_x = scaler.transform(scale_train_x)\r\n",
    "test_x = scaler.transform(scale_test_x)\r\n",
    "\r\n",
    "modelo = SVC()\r\n",
    "modelo.fit(train_x,train_y)\r\n",
    "previsoes = modelo.predict(test_x)\r\n",
    "\r\n",
    "acuracia_scale = round(accuracy_score(test_y, previsoes)*100,2)\r\n",
    "print(f'Acurácia apresentada pelo modelo foi de {acuracia_scale}%')\r\n",
    "\r\n"
   ],
   "outputs": [
    {
     "output_type": "stream",
     "name": "stdout",
     "text": [
      "Acurácia apresentada pelo modelo foi de 76.52%\n"
     ]
    }
   ],
   "metadata": {}
  },
  {
   "cell_type": "markdown",
   "source": [
    "## <font color='Teal' style = 'font-size: 18px;'>Por fim utilizando o modelo DecisionTreeClassifier, conseguimos visualizar o caminho das decisões ocorridas e como as variáveis se comportam.</font>"
   ],
   "metadata": {}
  },
  {
   "cell_type": "code",
   "execution_count": 112,
   "source": [
    "from sklearn.tree import DecisionTreeClassifier\r\n",
    "\r\n",
    "SEED = 5\r\n",
    "np.random.seed(SEED)\r\n",
    "\r\n",
    "train_x, test_x, train_y, test_y = train_test_split(x, y, test_size = 0.25, stratify = y)\r\n",
    "\r\n",
    "modelo = DecisionTreeClassifier(max_depth=3)\r\n",
    "modelo.fit(train_x,train_y)\r\n",
    "previsoes = modelo.predict(test_x)\r\n",
    "\r\n",
    "acuracia_decision = round(accuracy_score(test_y,previsoes)*100,2)\r\n",
    "print(f'Acurácia apresentada pelo modelo foi de {acuracia_decision}%')\r\n"
   ],
   "outputs": [
    {
     "output_type": "stream",
     "name": "stdout",
     "text": [
      "Acurácia apresentada pelo modelo foi de 78.28%\n"
     ]
    }
   ],
   "metadata": {}
  },
  {
   "cell_type": "markdown",
   "source": [
    "## <font color='Teal' style = 'font-size: 18px;'>Representação grafica do caminho de decisões do modelo Decision Tree Classifier</font>"
   ],
   "metadata": {}
  },
  {
   "cell_type": "code",
   "execution_count": 110,
   "source": [
    "from sklearn.tree import export_graphviz\r\n",
    "import graphviz\r\n",
    "\r\n",
    "variaveis = x.columns\r\n",
    "dot_data = export_graphviz(modelo, out_file= None, feature_names= variaveis, filled= True,\r\n",
    "                           rounded = True, class_names= ['Não','Sim']\r\n",
    "                          )\r\n",
    "\r\n",
    "grafico_tree = graphviz.Source(dot_data)\r\n",
    "grafico_tree\r\n"
   ],
   "outputs": [
    {
     "output_type": "execute_result",
     "data": {
      "text/plain": [
       "<graphviz.files.Source at 0x1be734084f0>"
      ],
      "image/svg+xml": "<?xml version=\"1.0\" encoding=\"UTF-8\" standalone=\"no\"?>\r\n<!DOCTYPE svg PUBLIC \"-//W3C//DTD SVG 1.1//EN\"\r\n \"http://www.w3.org/Graphics/SVG/1.1/DTD/svg11.dtd\">\r\n<!-- Generated by graphviz version 2.48.0 (20210717.1556)\r\n -->\r\n<!-- Title: Tree Pages: 1 -->\r\n<svg width=\"1636pt\" height=\"552pt\"\r\n viewBox=\"0.00 0.00 1636.00 552.00\" xmlns=\"http://www.w3.org/2000/svg\" xmlns:xlink=\"http://www.w3.org/1999/xlink\">\r\n<g id=\"graph0\" class=\"graph\" transform=\"scale(1 1) rotate(0) translate(4 548)\">\r\n<title>Tree</title>\r\n<polygon fill=\"white\" stroke=\"transparent\" points=\"-4,4 -4,-548 1632,-548 1632,4 -4,4\"/>\r\n<!-- 0 -->\r\n<g id=\"node1\" class=\"node\">\r\n<title>0</title>\r\n<path fill=\"#c8e4f8\" stroke=\"black\" d=\"M602.5,-544C602.5,-544 480.5,-544 480.5,-544 474.5,-544 468.5,-538 468.5,-532 468.5,-532 468.5,-473 468.5,-473 468.5,-467 474.5,-461 480.5,-461 480.5,-461 602.5,-461 602.5,-461 608.5,-461 614.5,-467 614.5,-473 614.5,-473 614.5,-532 614.5,-532 614.5,-538 608.5,-544 602.5,-544\"/>\r\n<text text-anchor=\"middle\" x=\"541.5\" y=\"-528.8\" font-family=\"Helvetica,sans-Serif\" font-size=\"14.00\">preco &lt;= 60005.08</text>\r\n<text text-anchor=\"middle\" x=\"541.5\" y=\"-513.8\" font-family=\"Helvetica,sans-Serif\" font-size=\"14.00\">gini = 0.487</text>\r\n<text text-anchor=\"middle\" x=\"541.5\" y=\"-498.8\" font-family=\"Helvetica,sans-Serif\" font-size=\"14.00\">samples = 7498</text>\r\n<text text-anchor=\"middle\" x=\"541.5\" y=\"-483.8\" font-family=\"Helvetica,sans-Serif\" font-size=\"14.00\">value = [3150, 4348]</text>\r\n<text text-anchor=\"middle\" x=\"541.5\" y=\"-468.8\" font-family=\"Helvetica,sans-Serif\" font-size=\"14.00\">class = Sim</text>\r\n</g>\r\n<!-- 1 -->\r\n<g id=\"node2\" class=\"node\">\r\n<title>1</title>\r\n<path fill=\"#52a9e8\" stroke=\"black\" d=\"M470,-425C470,-425 347,-425 347,-425 341,-425 335,-419 335,-413 335,-413 335,-354 335,-354 335,-348 341,-342 347,-342 347,-342 470,-342 470,-342 476,-342 482,-348 482,-354 482,-354 482,-413 482,-413 482,-419 476,-425 470,-425\"/>\r\n<text text-anchor=\"middle\" x=\"408.5\" y=\"-409.8\" font-family=\"Helvetica,sans-Serif\" font-size=\"14.00\">preco &lt;= 40070.154</text>\r\n<text text-anchor=\"middle\" x=\"408.5\" y=\"-394.8\" font-family=\"Helvetica,sans-Serif\" font-size=\"14.00\">gini = 0.2</text>\r\n<text text-anchor=\"middle\" x=\"408.5\" y=\"-379.8\" font-family=\"Helvetica,sans-Serif\" font-size=\"14.00\">samples = 3282</text>\r\n<text text-anchor=\"middle\" x=\"408.5\" y=\"-364.8\" font-family=\"Helvetica,sans-Serif\" font-size=\"14.00\">value = [370, 2912]</text>\r\n<text text-anchor=\"middle\" x=\"408.5\" y=\"-349.8\" font-family=\"Helvetica,sans-Serif\" font-size=\"14.00\">class = Sim</text>\r\n</g>\r\n<!-- 0&#45;&gt;1 -->\r\n<g id=\"edge1\" class=\"edge\">\r\n<title>0&#45;&gt;1</title>\r\n<path fill=\"none\" stroke=\"black\" d=\"M495.36,-460.91C484.63,-451.47 473.12,-441.34 462.1,-431.65\"/>\r\n<polygon fill=\"black\" stroke=\"black\" points=\"464.38,-429 454.56,-425.02 459.76,-434.25 464.38,-429\"/>\r\n<text text-anchor=\"middle\" x=\"456.16\" y=\"-446.27\" font-family=\"Helvetica,sans-Serif\" font-size=\"14.00\">True</text>\r\n</g>\r\n<!-- 10 -->\r\n<g id=\"node11\" class=\"node\">\r\n<title>10</title>\r\n<path fill=\"#f2c29f\" stroke=\"black\" d=\"M895,-425C895,-425 746,-425 746,-425 740,-425 734,-419 734,-413 734,-413 734,-354 734,-354 734,-348 740,-342 746,-342 746,-342 895,-342 895,-342 901,-342 907,-348 907,-354 907,-354 907,-413 907,-413 907,-419 901,-425 895,-425\"/>\r\n<text text-anchor=\"middle\" x=\"820.5\" y=\"-409.8\" font-family=\"Helvetica,sans-Serif\" font-size=\"14.00\">km_por_ano &lt;= 24112.5</text>\r\n<text text-anchor=\"middle\" x=\"820.5\" y=\"-394.8\" font-family=\"Helvetica,sans-Serif\" font-size=\"14.00\">gini = 0.449</text>\r\n<text text-anchor=\"middle\" x=\"820.5\" y=\"-379.8\" font-family=\"Helvetica,sans-Serif\" font-size=\"14.00\">samples = 4216</text>\r\n<text text-anchor=\"middle\" x=\"820.5\" y=\"-364.8\" font-family=\"Helvetica,sans-Serif\" font-size=\"14.00\">value = [2780, 1436]</text>\r\n<text text-anchor=\"middle\" x=\"820.5\" y=\"-349.8\" font-family=\"Helvetica,sans-Serif\" font-size=\"14.00\">class = Não</text>\r\n</g>\r\n<!-- 0&#45;&gt;10 -->\r\n<g id=\"edge10\" class=\"edge\">\r\n<title>0&#45;&gt;10</title>\r\n<path fill=\"none\" stroke=\"black\" d=\"M614.8,-470.76C648.3,-456.71 688.42,-439.89 724.3,-424.84\"/>\r\n<polygon fill=\"black\" stroke=\"black\" points=\"725.94,-427.95 733.81,-420.85 723.24,-421.49 725.94,-427.95\"/>\r\n<text text-anchor=\"middle\" x=\"724.35\" y=\"-440.29\" font-family=\"Helvetica,sans-Serif\" font-size=\"14.00\">False</text>\r\n</g>\r\n<!-- 2 -->\r\n<g id=\"node3\" class=\"node\">\r\n<title>2</title>\r\n<path fill=\"#399de5\" stroke=\"black\" d=\"M304.5,-298.5C304.5,-298.5 206.5,-298.5 206.5,-298.5 200.5,-298.5 194.5,-292.5 194.5,-286.5 194.5,-286.5 194.5,-242.5 194.5,-242.5 194.5,-236.5 200.5,-230.5 206.5,-230.5 206.5,-230.5 304.5,-230.5 304.5,-230.5 310.5,-230.5 316.5,-236.5 316.5,-242.5 316.5,-242.5 316.5,-286.5 316.5,-286.5 316.5,-292.5 310.5,-298.5 304.5,-298.5\"/>\r\n<text text-anchor=\"middle\" x=\"255.5\" y=\"-283.3\" font-family=\"Helvetica,sans-Serif\" font-size=\"14.00\">gini = 0.0</text>\r\n<text text-anchor=\"middle\" x=\"255.5\" y=\"-268.3\" font-family=\"Helvetica,sans-Serif\" font-size=\"14.00\">samples = 1458</text>\r\n<text text-anchor=\"middle\" x=\"255.5\" y=\"-253.3\" font-family=\"Helvetica,sans-Serif\" font-size=\"14.00\">value = [0, 1458]</text>\r\n<text text-anchor=\"middle\" x=\"255.5\" y=\"-238.3\" font-family=\"Helvetica,sans-Serif\" font-size=\"14.00\">class = Sim</text>\r\n</g>\r\n<!-- 1&#45;&gt;2 -->\r\n<g id=\"edge2\" class=\"edge\">\r\n<title>1&#45;&gt;2</title>\r\n<path fill=\"none\" stroke=\"black\" d=\"M355.42,-341.91C339.69,-329.88 322.5,-316.73 306.88,-304.79\"/>\r\n<polygon fill=\"black\" stroke=\"black\" points=\"308.94,-301.96 298.87,-298.67 304.69,-307.52 308.94,-301.96\"/>\r\n</g>\r\n<!-- 3 -->\r\n<g id=\"node4\" class=\"node\">\r\n<title>3</title>\r\n<path fill=\"#6bb6ec\" stroke=\"black\" d=\"M470,-306C470,-306 347,-306 347,-306 341,-306 335,-300 335,-294 335,-294 335,-235 335,-235 335,-229 341,-223 347,-223 347,-223 470,-223 470,-223 476,-223 482,-229 482,-235 482,-235 482,-294 482,-294 482,-300 476,-306 470,-306\"/>\r\n<text text-anchor=\"middle\" x=\"408.5\" y=\"-290.8\" font-family=\"Helvetica,sans-Serif\" font-size=\"14.00\">preco &lt;= 40723.646</text>\r\n<text text-anchor=\"middle\" x=\"408.5\" y=\"-275.8\" font-family=\"Helvetica,sans-Serif\" font-size=\"14.00\">gini = 0.323</text>\r\n<text text-anchor=\"middle\" x=\"408.5\" y=\"-260.8\" font-family=\"Helvetica,sans-Serif\" font-size=\"14.00\">samples = 1824</text>\r\n<text text-anchor=\"middle\" x=\"408.5\" y=\"-245.8\" font-family=\"Helvetica,sans-Serif\" font-size=\"14.00\">value = [370, 1454]</text>\r\n<text text-anchor=\"middle\" x=\"408.5\" y=\"-230.8\" font-family=\"Helvetica,sans-Serif\" font-size=\"14.00\">class = Sim</text>\r\n</g>\r\n<!-- 1&#45;&gt;3 -->\r\n<g id=\"edge3\" class=\"edge\">\r\n<title>1&#45;&gt;3</title>\r\n<path fill=\"none\" stroke=\"black\" d=\"M408.5,-341.91C408.5,-333.65 408.5,-324.86 408.5,-316.3\"/>\r\n<polygon fill=\"black\" stroke=\"black\" points=\"412,-316.02 408.5,-306.02 405,-316.02 412,-316.02\"/>\r\n</g>\r\n<!-- 4 -->\r\n<g id=\"node5\" class=\"node\">\r\n<title>4</title>\r\n<path fill=\"#9fcff2\" stroke=\"black\" d=\"M241,-187C241,-187 118,-187 118,-187 112,-187 106,-181 106,-175 106,-175 106,-116 106,-116 106,-110 112,-104 118,-104 118,-104 241,-104 241,-104 247,-104 253,-110 253,-116 253,-116 253,-175 253,-175 253,-181 247,-187 241,-187\"/>\r\n<text text-anchor=\"middle\" x=\"179.5\" y=\"-171.8\" font-family=\"Helvetica,sans-Serif\" font-size=\"14.00\">preco &lt;= 40616.676</text>\r\n<text text-anchor=\"middle\" x=\"179.5\" y=\"-156.8\" font-family=\"Helvetica,sans-Serif\" font-size=\"14.00\">gini = 0.448</text>\r\n<text text-anchor=\"middle\" x=\"179.5\" y=\"-141.8\" font-family=\"Helvetica,sans-Serif\" font-size=\"14.00\">samples = 59</text>\r\n<text text-anchor=\"middle\" x=\"179.5\" y=\"-126.8\" font-family=\"Helvetica,sans-Serif\" font-size=\"14.00\">value = [20, 39]</text>\r\n<text text-anchor=\"middle\" x=\"179.5\" y=\"-111.8\" font-family=\"Helvetica,sans-Serif\" font-size=\"14.00\">class = Sim</text>\r\n</g>\r\n<!-- 3&#45;&gt;4 -->\r\n<g id=\"edge4\" class=\"edge\">\r\n<title>3&#45;&gt;4</title>\r\n<path fill=\"none\" stroke=\"black\" d=\"M334.78,-225.84C311.59,-213.99 285.84,-200.83 262.08,-188.69\"/>\r\n<polygon fill=\"black\" stroke=\"black\" points=\"263.58,-185.53 253.08,-184.09 260.39,-191.76 263.58,-185.53\"/>\r\n</g>\r\n<!-- 7 -->\r\n<g id=\"node8\" class=\"node\">\r\n<title>7</title>\r\n<path fill=\"#6ab5eb\" stroke=\"black\" d=\"M483,-187C483,-187 334,-187 334,-187 328,-187 322,-181 322,-175 322,-175 322,-116 322,-116 322,-110 328,-104 334,-104 334,-104 483,-104 483,-104 489,-104 495,-110 495,-116 495,-116 495,-175 495,-175 495,-181 489,-187 483,-187\"/>\r\n<text text-anchor=\"middle\" x=\"408.5\" y=\"-171.8\" font-family=\"Helvetica,sans-Serif\" font-size=\"14.00\">km_por_ano &lt;= 35932.0</text>\r\n<text text-anchor=\"middle\" x=\"408.5\" y=\"-156.8\" font-family=\"Helvetica,sans-Serif\" font-size=\"14.00\">gini = 0.318</text>\r\n<text text-anchor=\"middle\" x=\"408.5\" y=\"-141.8\" font-family=\"Helvetica,sans-Serif\" font-size=\"14.00\">samples = 1765</text>\r\n<text text-anchor=\"middle\" x=\"408.5\" y=\"-126.8\" font-family=\"Helvetica,sans-Serif\" font-size=\"14.00\">value = [350, 1415]</text>\r\n<text text-anchor=\"middle\" x=\"408.5\" y=\"-111.8\" font-family=\"Helvetica,sans-Serif\" font-size=\"14.00\">class = Sim</text>\r\n</g>\r\n<!-- 3&#45;&gt;7 -->\r\n<g id=\"edge7\" class=\"edge\">\r\n<title>3&#45;&gt;7</title>\r\n<path fill=\"none\" stroke=\"black\" d=\"M408.5,-222.91C408.5,-214.65 408.5,-205.86 408.5,-197.3\"/>\r\n<polygon fill=\"black\" stroke=\"black\" points=\"412,-197.02 408.5,-187.02 405,-197.02 412,-197.02\"/>\r\n</g>\r\n<!-- 5 -->\r\n<g id=\"node6\" class=\"node\">\r\n<title>5</title>\r\n<path fill=\"#82c1ef\" stroke=\"black\" d=\"M101,-68C101,-68 12,-68 12,-68 6,-68 0,-62 0,-56 0,-56 0,-12 0,-12 0,-6 6,0 12,0 12,0 101,0 101,0 107,0 113,-6 113,-12 113,-12 113,-56 113,-56 113,-62 107,-68 101,-68\"/>\r\n<text text-anchor=\"middle\" x=\"56.5\" y=\"-52.8\" font-family=\"Helvetica,sans-Serif\" font-size=\"14.00\">gini = 0.393</text>\r\n<text text-anchor=\"middle\" x=\"56.5\" y=\"-37.8\" font-family=\"Helvetica,sans-Serif\" font-size=\"14.00\">samples = 52</text>\r\n<text text-anchor=\"middle\" x=\"56.5\" y=\"-22.8\" font-family=\"Helvetica,sans-Serif\" font-size=\"14.00\">value = [14, 38]</text>\r\n<text text-anchor=\"middle\" x=\"56.5\" y=\"-7.8\" font-family=\"Helvetica,sans-Serif\" font-size=\"14.00\">class = Sim</text>\r\n</g>\r\n<!-- 4&#45;&gt;5 -->\r\n<g id=\"edge5\" class=\"edge\">\r\n<title>4&#45;&gt;5</title>\r\n<path fill=\"none\" stroke=\"black\" d=\"M133.7,-103.73C123.15,-94.33 111.93,-84.35 101.42,-74.99\"/>\r\n<polygon fill=\"black\" stroke=\"black\" points=\"103.7,-72.33 93.91,-68.3 99.05,-77.56 103.7,-72.33\"/>\r\n</g>\r\n<!-- 6 -->\r\n<g id=\"node7\" class=\"node\">\r\n<title>6</title>\r\n<path fill=\"#e9965a\" stroke=\"black\" d=\"M216,-68C216,-68 143,-68 143,-68 137,-68 131,-62 131,-56 131,-56 131,-12 131,-12 131,-6 137,0 143,0 143,0 216,0 216,0 222,0 228,-6 228,-12 228,-12 228,-56 228,-56 228,-62 222,-68 216,-68\"/>\r\n<text text-anchor=\"middle\" x=\"179.5\" y=\"-52.8\" font-family=\"Helvetica,sans-Serif\" font-size=\"14.00\">gini = 0.245</text>\r\n<text text-anchor=\"middle\" x=\"179.5\" y=\"-37.8\" font-family=\"Helvetica,sans-Serif\" font-size=\"14.00\">samples = 7</text>\r\n<text text-anchor=\"middle\" x=\"179.5\" y=\"-22.8\" font-family=\"Helvetica,sans-Serif\" font-size=\"14.00\">value = [6, 1]</text>\r\n<text text-anchor=\"middle\" x=\"179.5\" y=\"-7.8\" font-family=\"Helvetica,sans-Serif\" font-size=\"14.00\">class = Não</text>\r\n</g>\r\n<!-- 4&#45;&gt;6 -->\r\n<g id=\"edge6\" class=\"edge\">\r\n<title>4&#45;&gt;6</title>\r\n<path fill=\"none\" stroke=\"black\" d=\"M179.5,-103.73C179.5,-95.52 179.5,-86.86 179.5,-78.56\"/>\r\n<polygon fill=\"black\" stroke=\"black\" points=\"183,-78.3 179.5,-68.3 176,-78.3 183,-78.3\"/>\r\n</g>\r\n<!-- 8 -->\r\n<g id=\"node9\" class=\"node\">\r\n<title>8</title>\r\n<path fill=\"#68b4eb\" stroke=\"black\" d=\"M372.5,-68C372.5,-68 258.5,-68 258.5,-68 252.5,-68 246.5,-62 246.5,-56 246.5,-56 246.5,-12 246.5,-12 246.5,-6 252.5,0 258.5,0 258.5,0 372.5,0 372.5,0 378.5,0 384.5,-6 384.5,-12 384.5,-12 384.5,-56 384.5,-56 384.5,-62 378.5,-68 372.5,-68\"/>\r\n<text text-anchor=\"middle\" x=\"315.5\" y=\"-52.8\" font-family=\"Helvetica,sans-Serif\" font-size=\"14.00\">gini = 0.31</text>\r\n<text text-anchor=\"middle\" x=\"315.5\" y=\"-37.8\" font-family=\"Helvetica,sans-Serif\" font-size=\"14.00\">samples = 1633</text>\r\n<text text-anchor=\"middle\" x=\"315.5\" y=\"-22.8\" font-family=\"Helvetica,sans-Serif\" font-size=\"14.00\">value = [313, 1320]</text>\r\n<text text-anchor=\"middle\" x=\"315.5\" y=\"-7.8\" font-family=\"Helvetica,sans-Serif\" font-size=\"14.00\">class = Sim</text>\r\n</g>\r\n<!-- 7&#45;&gt;8 -->\r\n<g id=\"edge8\" class=\"edge\">\r\n<title>7&#45;&gt;8</title>\r\n<path fill=\"none\" stroke=\"black\" d=\"M373.87,-103.73C366.2,-94.7 358.07,-85.12 350.39,-76.08\"/>\r\n<polygon fill=\"black\" stroke=\"black\" points=\"352.92,-73.66 343.78,-68.3 347.59,-78.19 352.92,-73.66\"/>\r\n</g>\r\n<!-- 9 -->\r\n<g id=\"node10\" class=\"node\">\r\n<title>9</title>\r\n<path fill=\"#86c3ef\" stroke=\"black\" d=\"M504,-68C504,-68 415,-68 415,-68 409,-68 403,-62 403,-56 403,-56 403,-12 403,-12 403,-6 409,0 415,0 415,0 504,0 504,0 510,0 516,-6 516,-12 516,-12 516,-56 516,-56 516,-62 510,-68 504,-68\"/>\r\n<text text-anchor=\"middle\" x=\"459.5\" y=\"-52.8\" font-family=\"Helvetica,sans-Serif\" font-size=\"14.00\">gini = 0.403</text>\r\n<text text-anchor=\"middle\" x=\"459.5\" y=\"-37.8\" font-family=\"Helvetica,sans-Serif\" font-size=\"14.00\">samples = 132</text>\r\n<text text-anchor=\"middle\" x=\"459.5\" y=\"-22.8\" font-family=\"Helvetica,sans-Serif\" font-size=\"14.00\">value = [37, 95]</text>\r\n<text text-anchor=\"middle\" x=\"459.5\" y=\"-7.8\" font-family=\"Helvetica,sans-Serif\" font-size=\"14.00\">class = Sim</text>\r\n</g>\r\n<!-- 7&#45;&gt;9 -->\r\n<g id=\"edge9\" class=\"edge\">\r\n<title>7&#45;&gt;9</title>\r\n<path fill=\"none\" stroke=\"black\" d=\"M427.49,-103.73C431.48,-95.15 435.71,-86.09 439.73,-77.46\"/>\r\n<polygon fill=\"black\" stroke=\"black\" points=\"442.94,-78.84 443.99,-68.3 436.6,-75.89 442.94,-78.84\"/>\r\n</g>\r\n<!-- 11 -->\r\n<g id=\"node12\" class=\"node\">\r\n<title>11</title>\r\n<path fill=\"#fbede2\" stroke=\"black\" d=\"M881.5,-306C881.5,-306 759.5,-306 759.5,-306 753.5,-306 747.5,-300 747.5,-294 747.5,-294 747.5,-235 747.5,-235 747.5,-229 753.5,-223 759.5,-223 759.5,-223 881.5,-223 881.5,-223 887.5,-223 893.5,-229 893.5,-235 893.5,-235 893.5,-294 893.5,-294 893.5,-300 887.5,-306 881.5,-306\"/>\r\n<text text-anchor=\"middle\" x=\"820.5\" y=\"-290.8\" font-family=\"Helvetica,sans-Serif\" font-size=\"14.00\">preco &lt;= 99974.41</text>\r\n<text text-anchor=\"middle\" x=\"820.5\" y=\"-275.8\" font-family=\"Helvetica,sans-Serif\" font-size=\"14.00\">gini = 0.497</text>\r\n<text text-anchor=\"middle\" x=\"820.5\" y=\"-260.8\" font-family=\"Helvetica,sans-Serif\" font-size=\"14.00\">samples = 2613</text>\r\n<text text-anchor=\"middle\" x=\"820.5\" y=\"-245.8\" font-family=\"Helvetica,sans-Serif\" font-size=\"14.00\">value = [1409, 1204]</text>\r\n<text text-anchor=\"middle\" x=\"820.5\" y=\"-230.8\" font-family=\"Helvetica,sans-Serif\" font-size=\"14.00\">class = Não</text>\r\n</g>\r\n<!-- 10&#45;&gt;11 -->\r\n<g id=\"edge11\" class=\"edge\">\r\n<title>10&#45;&gt;11</title>\r\n<path fill=\"none\" stroke=\"black\" d=\"M820.5,-341.91C820.5,-333.65 820.5,-324.86 820.5,-316.3\"/>\r\n<polygon fill=\"black\" stroke=\"black\" points=\"824,-316.02 820.5,-306.02 817,-316.02 824,-316.02\"/>\r\n</g>\r\n<!-- 18 -->\r\n<g id=\"node19\" class=\"node\">\r\n<title>18</title>\r\n<path fill=\"#e9965b\" stroke=\"black\" d=\"M1278,-306C1278,-306 1147,-306 1147,-306 1141,-306 1135,-300 1135,-294 1135,-294 1135,-235 1135,-235 1135,-229 1141,-223 1147,-223 1147,-223 1278,-223 1278,-223 1284,-223 1290,-229 1290,-235 1290,-235 1290,-294 1290,-294 1290,-300 1284,-306 1278,-306\"/>\r\n<text text-anchor=\"middle\" x=\"1212.5\" y=\"-290.8\" font-family=\"Helvetica,sans-Serif\" font-size=\"14.00\">preco &lt;= 100076.957</text>\r\n<text text-anchor=\"middle\" x=\"1212.5\" y=\"-275.8\" font-family=\"Helvetica,sans-Serif\" font-size=\"14.00\">gini = 0.248</text>\r\n<text text-anchor=\"middle\" x=\"1212.5\" y=\"-260.8\" font-family=\"Helvetica,sans-Serif\" font-size=\"14.00\">samples = 1603</text>\r\n<text text-anchor=\"middle\" x=\"1212.5\" y=\"-245.8\" font-family=\"Helvetica,sans-Serif\" font-size=\"14.00\">value = [1371, 232]</text>\r\n<text text-anchor=\"middle\" x=\"1212.5\" y=\"-230.8\" font-family=\"Helvetica,sans-Serif\" font-size=\"14.00\">class = Não</text>\r\n</g>\r\n<!-- 10&#45;&gt;18 -->\r\n<g id=\"edge18\" class=\"edge\">\r\n<title>10&#45;&gt;18</title>\r\n<path fill=\"none\" stroke=\"black\" d=\"M907.01,-356.68C971.78,-337.35 1060.03,-311.01 1125.03,-291.61\"/>\r\n<polygon fill=\"black\" stroke=\"black\" points=\"1126.27,-294.89 1134.85,-288.68 1124.26,-288.18 1126.27,-294.89\"/>\r\n</g>\r\n<!-- 12 -->\r\n<g id=\"node13\" class=\"node\">\r\n<title>12</title>\r\n<path fill=\"#f8decb\" stroke=\"black\" d=\"M798,-187C798,-187 675,-187 675,-187 669,-187 663,-181 663,-175 663,-175 663,-116 663,-116 663,-110 669,-104 675,-104 675,-104 798,-104 798,-104 804,-104 810,-110 810,-116 810,-116 810,-175 810,-175 810,-181 804,-187 798,-187\"/>\r\n<text text-anchor=\"middle\" x=\"736.5\" y=\"-171.8\" font-family=\"Helvetica,sans-Serif\" font-size=\"14.00\">preco &lt;= 74121.496</text>\r\n<text text-anchor=\"middle\" x=\"736.5\" y=\"-156.8\" font-family=\"Helvetica,sans-Serif\" font-size=\"14.00\">gini = 0.488</text>\r\n<text text-anchor=\"middle\" x=\"736.5\" y=\"-141.8\" font-family=\"Helvetica,sans-Serif\" font-size=\"14.00\">samples = 2197</text>\r\n<text text-anchor=\"middle\" x=\"736.5\" y=\"-126.8\" font-family=\"Helvetica,sans-Serif\" font-size=\"14.00\">value = [1266, 931]</text>\r\n<text text-anchor=\"middle\" x=\"736.5\" y=\"-111.8\" font-family=\"Helvetica,sans-Serif\" font-size=\"14.00\">class = Não</text>\r\n</g>\r\n<!-- 11&#45;&gt;12 -->\r\n<g id=\"edge12\" class=\"edge\">\r\n<title>11&#45;&gt;12</title>\r\n<path fill=\"none\" stroke=\"black\" d=\"M791.36,-222.91C784.97,-214.01 778.15,-204.51 771.56,-195.33\"/>\r\n<polygon fill=\"black\" stroke=\"black\" points=\"774.27,-193.1 765.59,-187.02 768.58,-197.19 774.27,-193.1\"/>\r\n</g>\r\n<!-- 15 -->\r\n<g id=\"node16\" class=\"node\">\r\n<title>15</title>\r\n<path fill=\"#a1d0f3\" stroke=\"black\" d=\"M971,-187C971,-187 840,-187 840,-187 834,-187 828,-181 828,-175 828,-175 828,-116 828,-116 828,-110 834,-104 840,-104 840,-104 971,-104 971,-104 977,-104 983,-110 983,-116 983,-116 983,-175 983,-175 983,-181 977,-187 971,-187\"/>\r\n<text text-anchor=\"middle\" x=\"905.5\" y=\"-171.8\" font-family=\"Helvetica,sans-Serif\" font-size=\"14.00\">preco &lt;= 118454.723</text>\r\n<text text-anchor=\"middle\" x=\"905.5\" y=\"-156.8\" font-family=\"Helvetica,sans-Serif\" font-size=\"14.00\">gini = 0.451</text>\r\n<text text-anchor=\"middle\" x=\"905.5\" y=\"-141.8\" font-family=\"Helvetica,sans-Serif\" font-size=\"14.00\">samples = 416</text>\r\n<text text-anchor=\"middle\" x=\"905.5\" y=\"-126.8\" font-family=\"Helvetica,sans-Serif\" font-size=\"14.00\">value = [143, 273]</text>\r\n<text text-anchor=\"middle\" x=\"905.5\" y=\"-111.8\" font-family=\"Helvetica,sans-Serif\" font-size=\"14.00\">class = Sim</text>\r\n</g>\r\n<!-- 11&#45;&gt;15 -->\r\n<g id=\"edge15\" class=\"edge\">\r\n<title>11&#45;&gt;15</title>\r\n<path fill=\"none\" stroke=\"black\" d=\"M849.99,-222.91C856.45,-214.01 863.36,-204.51 870.02,-195.33\"/>\r\n<polygon fill=\"black\" stroke=\"black\" points=\"873.02,-197.17 876.06,-187.02 867.35,-193.05 873.02,-197.17\"/>\r\n</g>\r\n<!-- 13 -->\r\n<g id=\"node14\" class=\"node\">\r\n<title>13</title>\r\n<path fill=\"#fbede2\" stroke=\"black\" d=\"M652.5,-68C652.5,-68 546.5,-68 546.5,-68 540.5,-68 534.5,-62 534.5,-56 534.5,-56 534.5,-12 534.5,-12 534.5,-6 540.5,0 546.5,0 546.5,0 652.5,0 652.5,0 658.5,0 664.5,-6 664.5,-12 664.5,-12 664.5,-56 664.5,-56 664.5,-62 658.5,-68 652.5,-68\"/>\r\n<text text-anchor=\"middle\" x=\"599.5\" y=\"-52.8\" font-family=\"Helvetica,sans-Serif\" font-size=\"14.00\">gini = 0.497</text>\r\n<text text-anchor=\"middle\" x=\"599.5\" y=\"-37.8\" font-family=\"Helvetica,sans-Serif\" font-size=\"14.00\">samples = 835</text>\r\n<text text-anchor=\"middle\" x=\"599.5\" y=\"-22.8\" font-family=\"Helvetica,sans-Serif\" font-size=\"14.00\">value = [450, 385]</text>\r\n<text text-anchor=\"middle\" x=\"599.5\" y=\"-7.8\" font-family=\"Helvetica,sans-Serif\" font-size=\"14.00\">class = Não</text>\r\n</g>\r\n<!-- 12&#45;&gt;13 -->\r\n<g id=\"edge13\" class=\"edge\">\r\n<title>12&#45;&gt;13</title>\r\n<path fill=\"none\" stroke=\"black\" d=\"M685.49,-103.73C673.62,-94.24 661,-84.16 649.19,-74.72\"/>\r\n<polygon fill=\"black\" stroke=\"black\" points=\"651.16,-71.81 641.16,-68.3 646.79,-77.28 651.16,-71.81\"/>\r\n</g>\r\n<!-- 14 -->\r\n<g id=\"node15\" class=\"node\">\r\n<title>14</title>\r\n<path fill=\"#f6d5bd\" stroke=\"black\" d=\"M800.5,-68C800.5,-68 694.5,-68 694.5,-68 688.5,-68 682.5,-62 682.5,-56 682.5,-56 682.5,-12 682.5,-12 682.5,-6 688.5,0 694.5,0 694.5,0 800.5,0 800.5,0 806.5,0 812.5,-6 812.5,-12 812.5,-12 812.5,-56 812.5,-56 812.5,-62 806.5,-68 800.5,-68\"/>\r\n<text text-anchor=\"middle\" x=\"747.5\" y=\"-52.8\" font-family=\"Helvetica,sans-Serif\" font-size=\"14.00\">gini = 0.48</text>\r\n<text text-anchor=\"middle\" x=\"747.5\" y=\"-37.8\" font-family=\"Helvetica,sans-Serif\" font-size=\"14.00\">samples = 1362</text>\r\n<text text-anchor=\"middle\" x=\"747.5\" y=\"-22.8\" font-family=\"Helvetica,sans-Serif\" font-size=\"14.00\">value = [816, 546]</text>\r\n<text text-anchor=\"middle\" x=\"747.5\" y=\"-7.8\" font-family=\"Helvetica,sans-Serif\" font-size=\"14.00\">class = Não</text>\r\n</g>\r\n<!-- 12&#45;&gt;14 -->\r\n<g id=\"edge14\" class=\"edge\">\r\n<title>12&#45;&gt;14</title>\r\n<path fill=\"none\" stroke=\"black\" d=\"M740.6,-103.73C741.43,-95.43 742.31,-86.67 743.15,-78.28\"/>\r\n<polygon fill=\"black\" stroke=\"black\" points=\"746.64,-78.6 744.15,-68.3 739.67,-77.9 746.64,-78.6\"/>\r\n</g>\r\n<!-- 16 -->\r\n<g id=\"node17\" class=\"node\">\r\n<title>16</title>\r\n<path fill=\"#9fd0f2\" stroke=\"black\" d=\"M948.5,-68C948.5,-68 842.5,-68 842.5,-68 836.5,-68 830.5,-62 830.5,-56 830.5,-56 830.5,-12 830.5,-12 830.5,-6 836.5,0 842.5,0 842.5,0 948.5,0 948.5,0 954.5,0 960.5,-6 960.5,-12 960.5,-12 960.5,-56 960.5,-56 960.5,-62 954.5,-68 948.5,-68\"/>\r\n<text text-anchor=\"middle\" x=\"895.5\" y=\"-52.8\" font-family=\"Helvetica,sans-Serif\" font-size=\"14.00\">gini = 0.449</text>\r\n<text text-anchor=\"middle\" x=\"895.5\" y=\"-37.8\" font-family=\"Helvetica,sans-Serif\" font-size=\"14.00\">samples = 414</text>\r\n<text text-anchor=\"middle\" x=\"895.5\" y=\"-22.8\" font-family=\"Helvetica,sans-Serif\" font-size=\"14.00\">value = [141, 273]</text>\r\n<text text-anchor=\"middle\" x=\"895.5\" y=\"-7.8\" font-family=\"Helvetica,sans-Serif\" font-size=\"14.00\">class = Sim</text>\r\n</g>\r\n<!-- 15&#45;&gt;16 -->\r\n<g id=\"edge16\" class=\"edge\">\r\n<title>15&#45;&gt;16</title>\r\n<path fill=\"none\" stroke=\"black\" d=\"M901.78,-103.73C901.02,-95.43 900.22,-86.67 899.45,-78.28\"/>\r\n<polygon fill=\"black\" stroke=\"black\" points=\"902.94,-77.94 898.54,-68.3 895.97,-78.58 902.94,-77.94\"/>\r\n</g>\r\n<!-- 17 -->\r\n<g id=\"node18\" class=\"node\">\r\n<title>17</title>\r\n<path fill=\"#e58139\" stroke=\"black\" d=\"M1064,-68C1064,-68 991,-68 991,-68 985,-68 979,-62 979,-56 979,-56 979,-12 979,-12 979,-6 985,0 991,0 991,0 1064,0 1064,0 1070,0 1076,-6 1076,-12 1076,-12 1076,-56 1076,-56 1076,-62 1070,-68 1064,-68\"/>\r\n<text text-anchor=\"middle\" x=\"1027.5\" y=\"-52.8\" font-family=\"Helvetica,sans-Serif\" font-size=\"14.00\">gini = 0.0</text>\r\n<text text-anchor=\"middle\" x=\"1027.5\" y=\"-37.8\" font-family=\"Helvetica,sans-Serif\" font-size=\"14.00\">samples = 2</text>\r\n<text text-anchor=\"middle\" x=\"1027.5\" y=\"-22.8\" font-family=\"Helvetica,sans-Serif\" font-size=\"14.00\">value = [2, 0]</text>\r\n<text text-anchor=\"middle\" x=\"1027.5\" y=\"-7.8\" font-family=\"Helvetica,sans-Serif\" font-size=\"14.00\">class = Não</text>\r\n</g>\r\n<!-- 15&#45;&gt;17 -->\r\n<g id=\"edge17\" class=\"edge\">\r\n<title>15&#45;&gt;17</title>\r\n<path fill=\"none\" stroke=\"black\" d=\"M950.93,-103.73C961.4,-94.33 972.52,-84.35 982.95,-74.99\"/>\r\n<polygon fill=\"black\" stroke=\"black\" points=\"985.29,-77.58 990.4,-68.3 980.62,-72.37 985.29,-77.58\"/>\r\n</g>\r\n<!-- 19 -->\r\n<g id=\"node20\" class=\"node\">\r\n<title>19</title>\r\n<path fill=\"#e68742\" stroke=\"black\" d=\"M1274,-187C1274,-187 1151,-187 1151,-187 1145,-187 1139,-181 1139,-175 1139,-175 1139,-116 1139,-116 1139,-110 1145,-104 1151,-104 1151,-104 1274,-104 1274,-104 1280,-104 1286,-110 1286,-116 1286,-116 1286,-175 1286,-175 1286,-181 1280,-187 1274,-187\"/>\r\n<text text-anchor=\"middle\" x=\"1212.5\" y=\"-171.8\" font-family=\"Helvetica,sans-Serif\" font-size=\"14.00\">preco &lt;= 94306.172</text>\r\n<text text-anchor=\"middle\" x=\"1212.5\" y=\"-156.8\" font-family=\"Helvetica,sans-Serif\" font-size=\"14.00\">gini = 0.087</text>\r\n<text text-anchor=\"middle\" x=\"1212.5\" y=\"-141.8\" font-family=\"Helvetica,sans-Serif\" font-size=\"14.00\">samples = 1357</text>\r\n<text text-anchor=\"middle\" x=\"1212.5\" y=\"-126.8\" font-family=\"Helvetica,sans-Serif\" font-size=\"14.00\">value = [1295, 62]</text>\r\n<text text-anchor=\"middle\" x=\"1212.5\" y=\"-111.8\" font-family=\"Helvetica,sans-Serif\" font-size=\"14.00\">class = Não</text>\r\n</g>\r\n<!-- 18&#45;&gt;19 -->\r\n<g id=\"edge19\" class=\"edge\">\r\n<title>18&#45;&gt;19</title>\r\n<path fill=\"none\" stroke=\"black\" d=\"M1212.5,-222.91C1212.5,-214.65 1212.5,-205.86 1212.5,-197.3\"/>\r\n<polygon fill=\"black\" stroke=\"black\" points=\"1216,-197.02 1212.5,-187.02 1209,-197.02 1216,-197.02\"/>\r\n</g>\r\n<!-- 22 -->\r\n<g id=\"node23\" class=\"node\">\r\n<title>22</title>\r\n<path fill=\"#92c9f1\" stroke=\"black\" d=\"M1518,-187C1518,-187 1369,-187 1369,-187 1363,-187 1357,-181 1357,-175 1357,-175 1357,-116 1357,-116 1357,-110 1363,-104 1369,-104 1369,-104 1518,-104 1518,-104 1524,-104 1530,-110 1530,-116 1530,-116 1530,-175 1530,-175 1530,-181 1524,-187 1518,-187\"/>\r\n<text text-anchor=\"middle\" x=\"1443.5\" y=\"-171.8\" font-family=\"Helvetica,sans-Serif\" font-size=\"14.00\">km_por_ano &lt;= 42133.0</text>\r\n<text text-anchor=\"middle\" x=\"1443.5\" y=\"-156.8\" font-family=\"Helvetica,sans-Serif\" font-size=\"14.00\">gini = 0.427</text>\r\n<text text-anchor=\"middle\" x=\"1443.5\" y=\"-141.8\" font-family=\"Helvetica,sans-Serif\" font-size=\"14.00\">samples = 246</text>\r\n<text text-anchor=\"middle\" x=\"1443.5\" y=\"-126.8\" font-family=\"Helvetica,sans-Serif\" font-size=\"14.00\">value = [76, 170]</text>\r\n<text text-anchor=\"middle\" x=\"1443.5\" y=\"-111.8\" font-family=\"Helvetica,sans-Serif\" font-size=\"14.00\">class = Sim</text>\r\n</g>\r\n<!-- 18&#45;&gt;22 -->\r\n<g id=\"edge22\" class=\"edge\">\r\n<title>18&#45;&gt;22</title>\r\n<path fill=\"none\" stroke=\"black\" d=\"M1290.06,-224.22C1310.71,-213.76 1333.17,-202.38 1354.38,-191.64\"/>\r\n<polygon fill=\"black\" stroke=\"black\" points=\"1356.04,-194.72 1363.38,-187.08 1352.88,-188.48 1356.04,-194.72\"/>\r\n</g>\r\n<!-- 20 -->\r\n<g id=\"node21\" class=\"node\">\r\n<title>20</title>\r\n<path fill=\"#e68642\" stroke=\"black\" d=\"M1212.5,-68C1212.5,-68 1106.5,-68 1106.5,-68 1100.5,-68 1094.5,-62 1094.5,-56 1094.5,-56 1094.5,-12 1094.5,-12 1094.5,-6 1100.5,0 1106.5,0 1106.5,0 1212.5,0 1212.5,0 1218.5,0 1224.5,-6 1224.5,-12 1224.5,-12 1224.5,-56 1224.5,-56 1224.5,-62 1218.5,-68 1212.5,-68\"/>\r\n<text text-anchor=\"middle\" x=\"1159.5\" y=\"-52.8\" font-family=\"Helvetica,sans-Serif\" font-size=\"14.00\">gini = 0.08</text>\r\n<text text-anchor=\"middle\" x=\"1159.5\" y=\"-37.8\" font-family=\"Helvetica,sans-Serif\" font-size=\"14.00\">samples = 1199</text>\r\n<text text-anchor=\"middle\" x=\"1159.5\" y=\"-22.8\" font-family=\"Helvetica,sans-Serif\" font-size=\"14.00\">value = [1149, 50]</text>\r\n<text text-anchor=\"middle\" x=\"1159.5\" y=\"-7.8\" font-family=\"Helvetica,sans-Serif\" font-size=\"14.00\">class = Não</text>\r\n</g>\r\n<!-- 19&#45;&gt;20 -->\r\n<g id=\"edge20\" class=\"edge\">\r\n<title>19&#45;&gt;20</title>\r\n<path fill=\"none\" stroke=\"black\" d=\"M1192.76,-103.73C1188.61,-95.15 1184.23,-86.09 1180.05,-77.46\"/>\r\n<polygon fill=\"black\" stroke=\"black\" points=\"1183.12,-75.78 1175.62,-68.3 1176.82,-78.83 1183.12,-75.78\"/>\r\n</g>\r\n<!-- 21 -->\r\n<g id=\"node22\" class=\"node\">\r\n<title>21</title>\r\n<path fill=\"#e78b49\" stroke=\"black\" d=\"M1352.5,-68C1352.5,-68 1254.5,-68 1254.5,-68 1248.5,-68 1242.5,-62 1242.5,-56 1242.5,-56 1242.5,-12 1242.5,-12 1242.5,-6 1248.5,0 1254.5,0 1254.5,0 1352.5,0 1352.5,0 1358.5,0 1364.5,-6 1364.5,-12 1364.5,-12 1364.5,-56 1364.5,-56 1364.5,-62 1358.5,-68 1352.5,-68\"/>\r\n<text text-anchor=\"middle\" x=\"1303.5\" y=\"-52.8\" font-family=\"Helvetica,sans-Serif\" font-size=\"14.00\">gini = 0.14</text>\r\n<text text-anchor=\"middle\" x=\"1303.5\" y=\"-37.8\" font-family=\"Helvetica,sans-Serif\" font-size=\"14.00\">samples = 158</text>\r\n<text text-anchor=\"middle\" x=\"1303.5\" y=\"-22.8\" font-family=\"Helvetica,sans-Serif\" font-size=\"14.00\">value = [146, 12]</text>\r\n<text text-anchor=\"middle\" x=\"1303.5\" y=\"-7.8\" font-family=\"Helvetica,sans-Serif\" font-size=\"14.00\">class = Não</text>\r\n</g>\r\n<!-- 19&#45;&gt;21 -->\r\n<g id=\"edge21\" class=\"edge\">\r\n<title>19&#45;&gt;21</title>\r\n<path fill=\"none\" stroke=\"black\" d=\"M1246.39,-103.73C1253.89,-94.7 1261.84,-85.12 1269.36,-76.08\"/>\r\n<polygon fill=\"black\" stroke=\"black\" points=\"1272.13,-78.23 1275.83,-68.3 1266.74,-73.75 1272.13,-78.23\"/>\r\n</g>\r\n<!-- 23 -->\r\n<g id=\"node24\" class=\"node\">\r\n<title>23</title>\r\n<path fill=\"#98ccf2\" stroke=\"black\" d=\"M1492.5,-68C1492.5,-68 1394.5,-68 1394.5,-68 1388.5,-68 1382.5,-62 1382.5,-56 1382.5,-56 1382.5,-12 1382.5,-12 1382.5,-6 1388.5,0 1394.5,0 1394.5,0 1492.5,0 1492.5,0 1498.5,0 1504.5,-6 1504.5,-12 1504.5,-12 1504.5,-56 1504.5,-56 1504.5,-62 1498.5,-68 1492.5,-68\"/>\r\n<text text-anchor=\"middle\" x=\"1443.5\" y=\"-52.8\" font-family=\"Helvetica,sans-Serif\" font-size=\"14.00\">gini = 0.439</text>\r\n<text text-anchor=\"middle\" x=\"1443.5\" y=\"-37.8\" font-family=\"Helvetica,sans-Serif\" font-size=\"14.00\">samples = 231</text>\r\n<text text-anchor=\"middle\" x=\"1443.5\" y=\"-22.8\" font-family=\"Helvetica,sans-Serif\" font-size=\"14.00\">value = [75, 156]</text>\r\n<text text-anchor=\"middle\" x=\"1443.5\" y=\"-7.8\" font-family=\"Helvetica,sans-Serif\" font-size=\"14.00\">class = Sim</text>\r\n</g>\r\n<!-- 22&#45;&gt;23 -->\r\n<g id=\"edge23\" class=\"edge\">\r\n<title>22&#45;&gt;23</title>\r\n<path fill=\"none\" stroke=\"black\" d=\"M1443.5,-103.73C1443.5,-95.52 1443.5,-86.86 1443.5,-78.56\"/>\r\n<polygon fill=\"black\" stroke=\"black\" points=\"1447,-78.3 1443.5,-68.3 1440,-78.3 1447,-78.3\"/>\r\n</g>\r\n<!-- 24 -->\r\n<g id=\"node25\" class=\"node\">\r\n<title>24</title>\r\n<path fill=\"#47a4e7\" stroke=\"black\" d=\"M1616,-68C1616,-68 1535,-68 1535,-68 1529,-68 1523,-62 1523,-56 1523,-56 1523,-12 1523,-12 1523,-6 1529,0 1535,0 1535,0 1616,0 1616,0 1622,0 1628,-6 1628,-12 1628,-12 1628,-56 1628,-56 1628,-62 1622,-68 1616,-68\"/>\r\n<text text-anchor=\"middle\" x=\"1575.5\" y=\"-52.8\" font-family=\"Helvetica,sans-Serif\" font-size=\"14.00\">gini = 0.124</text>\r\n<text text-anchor=\"middle\" x=\"1575.5\" y=\"-37.8\" font-family=\"Helvetica,sans-Serif\" font-size=\"14.00\">samples = 15</text>\r\n<text text-anchor=\"middle\" x=\"1575.5\" y=\"-22.8\" font-family=\"Helvetica,sans-Serif\" font-size=\"14.00\">value = [1, 14]</text>\r\n<text text-anchor=\"middle\" x=\"1575.5\" y=\"-7.8\" font-family=\"Helvetica,sans-Serif\" font-size=\"14.00\">class = Sim</text>\r\n</g>\r\n<!-- 22&#45;&gt;24 -->\r\n<g id=\"edge24\" class=\"edge\">\r\n<title>22&#45;&gt;24</title>\r\n<path fill=\"none\" stroke=\"black\" d=\"M1492.65,-103.73C1504.09,-94.24 1516.24,-84.16 1527.62,-74.72\"/>\r\n<polygon fill=\"black\" stroke=\"black\" points=\"1529.9,-77.38 1535.36,-68.3 1525.43,-71.99 1529.9,-77.38\"/>\r\n</g>\r\n</g>\r\n</svg>\r\n"
     },
     "metadata": {},
     "execution_count": 110
    }
   ],
   "metadata": {}
  }
 ],
 "metadata": {
  "orig_nbformat": 4,
  "language_info": {
   "name": "python",
   "version": "3.8.5",
   "mimetype": "text/x-python",
   "codemirror_mode": {
    "name": "ipython",
    "version": 3
   },
   "pygments_lexer": "ipython3",
   "nbconvert_exporter": "python",
   "file_extension": ".py"
  },
  "kernelspec": {
   "name": "python3",
   "display_name": "Python 3.8.5 64-bit ('base': conda)"
  },
  "interpreter": {
   "hash": "fcaa81ea86ba18c675ca1a43db4ad8dc7f6a0ec68a629f67265c986df4dbe008"
  }
 },
 "nbformat": 4,
 "nbformat_minor": 2
}